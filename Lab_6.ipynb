{
 "cells": [
  {
   "cell_type": "markdown",
   "id": "168ab12f-0f1f-48e9-9172-e62fa409e125",
   "metadata": {},
   "source": [
    "# Greece"
   ]
  },
  {
   "cell_type": "markdown",
   "id": "39783561-6f87-466e-becc-070f79ada874",
   "metadata": {},
   "source": [
    "<h2>General information</h2>"
   ]
  },
  {
   "cell_type": "markdown",
   "id": "aed42cf4-33c8-4f42-918f-55358f6741b4",
   "metadata": {},
   "source": [
    "The area of Greece is: 131,957 $km^2$."
   ]
  },
  {
   "cell_type": "markdown",
   "id": "9d9f899c-771b-4dbf-9237-b942163f5e49",
   "metadata": {},
   "source": [
    "The country comprises *nine* traditional geographic regions, and has a _population of over 10.4 million_."
   ]
  },
  {
   "cell_type": "markdown",
   "id": "eec5be48-ac2c-4596-86a7-18e020d32b35",
   "metadata": {},
   "source": [
    "Greece is a *parliamentary representative democratic republic*, where the **President of Greece** is **the head of state** and the **Prime Minister** of Greece is the **head of government** within a multi-party system."
   ]
  },
  {
   "cell_type": "markdown",
   "id": "0f000bde-b0c2-4a0b-a766-e156e1fee0e0",
   "metadata": {},
   "source": [
    "<h3>Government positions</h3>\n",
    "\n",
    "|Position|Name|\n",
    "|--------|----|\n",
    "|President|Katerina Sakellaropoulou|\n",
    "|Prime Minister|Kyriakos Mitsotakis|\n",
    "|Parliament Speaker|Konstantinos Tasoulas|"
   ]
  },
  {
   "cell_type": "markdown",
   "id": "c409b77e-1149-4e60-84a6-9a9e89d0dd6b",
   "metadata": {},
   "source": [
    "<h2>Literature</h2>"
   ]
  },
  {
   "cell_type": "markdown",
   "id": "6f6b0666-817f-432d-96be-b26d0a4232bf",
   "metadata": {},
   "source": [
    ">At the beginning of Greek literature stand the monumental works of Homer: the Iliad and the Odyssey, composed around 800 BC or after.\n",
    "\n",
    ">Byzantine literature written in Atticizing, Medieval and early Modern Greek, is the expression of the intellectual life of the Byzantine Greeks during the Christian Middle Ages. Although popular Byzantine literature and early Modern Greek literature both began in the 11th century, the two are indistinguishable\n",
    "\n",
    ">Modern Greek literature refers to literature written in common Modern Greek, emerging from late Byzantine times in the 11th century. The Cretan Renaissance poem Erotokritos is considered the masterpiece of this period. It is a verse romance written around 1600 by Vitsentzos Kornaros (1553–1613)"
   ]
  },
  {
   "cell_type": "markdown",
   "id": "8cfad739-080a-46a2-8c7f-f41c8ae5ee45",
   "metadata": {},
   "source": [
    "<h2><span style=\"color: green;\">Nature</span></h2>"
   ]
  },
  {
   "cell_type": "markdown",
   "id": "6d3aa89f-384f-406c-8a1e-958022851b83",
   "metadata": {},
   "source": [
    "Located in Southern and Southeast Europe, Greece consists of a mountainous, peninsular mainland jutting out into the sea at the southern end of the Balkans, ending at the Peloponnese peninsula (separated from the mainland by the canal of the Isthmus of Corinth) and strategically located at the crossroads of Europe, Asia, and Africa.\n",
    "Approximately 80% of Greece consists of mountains or hills, making the country one of the most mountainous in Europe. [Mount Olympus](https://en.wikipedia.org/wiki/Mount_Olympus), the mythical abode of the [Greek Gods](https://en.wikipedia.org/wiki/Twelve_Olympians), culminates at Mytikas peak 2,918 metres (9,573 ft), the highest in the country.\n",
    "\n",
    "![Olympus image](Olympus.jpg)"
   ]
  },
  {
   "cell_type": "markdown",
   "id": "d9c4f556-a74e-4d49-aa87-e5a9a8ad7634",
   "metadata": {},
   "source": [
    "<h2>The flag of Greece</h2>"
   ]
  },
  {
   "cell_type": "markdown",
   "id": "c28b3359-92a7-47dc-a05c-2fc4df17c6f9",
   "metadata": {},
   "source": [
    "+ As an image"
   ]
  },
  {
   "attachments": {},
   "cell_type": "markdown",
   "id": "85f17bbb-9dd9-4bbe-8190-6678f33f71cd",
   "metadata": {},
   "source": [
    "![Failed to load](https://upload.wikimedia.org/wikipedia/commons/thumb/5/5c/Flag_of_Greece.svg/320px-Flag_of_Greece.svg.png)"
   ]
  },
  {
   "cell_type": "markdown",
   "id": "c04e1db2-066f-47bc-9ba9-cd1b1b91827f",
   "metadata": {},
   "source": [
    "+ Created with SVG tag:"
   ]
  },
  {
   "cell_type": "code",
   "execution_count": 50,
   "id": "68d1bb47-11b1-4497-bc68-eeb8ff3389e6",
   "metadata": {},
   "outputs": [
    {
     "data": {
      "text/html": [
       "<svg width=\"300\" height=\"200\">\n",
       "  <rect x=\"0\" y=\"0\" width=\"40\" height=\"40\" fill=\"#195c9d\" />\n",
       "  <rect x=\"60\" y=\"0\" width=\"40\" height=\"40\" fill=\"#195c9d\" />\n",
       "  <rect x=\"0\" y=\"60\" width=\"40\" height=\"40\" fill=\"#195c9d\" />\n",
       "  <rect x=\"60\" y=\"60\" width=\"40\" height=\"40\" fill=\"#195c9d\" />\n",
       "  <rect x=\"100\" y=\"0\" width=\"200\" height=\"20\" fill=\"#195c9d\" />\n",
       "  <rect x=\"100\" y=\"40\" width=\"200\" height=\"20\" fill=\"#195c9d\" />\n",
       "  <rect x=\"100\" y=\"80\" width=\"200\" height=\"20\" fill=\"#195c9d\" />\n",
       "  <rect y=\"120\" width=\"300\" height=\"20\" fill=\"#195c9d\" />\n",
       "  <rect y=\"160\" width=\"300\" height=\"20\" fill=\"#195c9d\" />\n",
       "</svg>\n"
      ],
      "text/plain": [
       "<IPython.core.display.HTML object>"
      ]
     },
     "metadata": {},
     "output_type": "display_data"
    }
   ],
   "source": [
    "%%html\n",
    "<svg width=\"300\" height=\"200\">\n",
    "  <rect x=\"0\" y=\"0\" width=\"40\" height=\"40\" fill=\"#195c9d\" />\n",
    "  <rect x=\"60\" y=\"0\" width=\"40\" height=\"40\" fill=\"#195c9d\" />\n",
    "  <rect x=\"0\" y=\"60\" width=\"40\" height=\"40\" fill=\"#195c9d\" />\n",
    "  <rect x=\"60\" y=\"60\" width=\"40\" height=\"40\" fill=\"#195c9d\" />\n",
    "  <rect x=\"100\" y=\"0\" width=\"200\" height=\"20\" fill=\"#195c9d\" />\n",
    "  <rect x=\"100\" y=\"40\" width=\"200\" height=\"20\" fill=\"#195c9d\" />\n",
    "  <rect x=\"100\" y=\"80\" width=\"200\" height=\"20\" fill=\"#195c9d\" />\n",
    "  <rect y=\"120\" width=\"300\" height=\"20\" fill=\"#195c9d\" />\n",
    "  <rect y=\"160\" width=\"300\" height=\"20\" fill=\"#195c9d\" />\n",
    "</svg>"
   ]
  },
  {
   "cell_type": "code",
   "execution_count": 30,
   "id": "63dbd4e5-f2df-4fd2-9908-f9fb47b07873",
   "metadata": {},
   "outputs": [],
   "source": [
    "def is_prime(num):\n",
    "    if num <= 1 or num % 2 == 0:\n",
    "        return False\n",
    "    if num == 2:\n",
    "        return True\n",
    "    for i in range(3, int(num**0.5) + 1, 2):\n",
    "        if num % i == 0:\n",
    "            return False\n",
    "    return True\n",
    "\n",
    "def task1(num):\n",
    "    if not isinstance(num, int) or num <= 2 or num % 2 != 0:\n",
    "        print(\"Enter even integer greater than 2\")\n",
    "        return\n",
    "    \n",
    "    for i in range(2, num):\n",
    "        if is_prime(i) and is_prime(num - i):\n",
    "            print(f'Number {num} can be seen as: {i} + {num - i}')\n",
    "            return\n",
    "    \n",
    "    return\n",
    "    "
   ]
  },
  {
   "cell_type": "code",
   "execution_count": 32,
   "id": "cb0c3780-7be3-44ae-a609-c996bf65b560",
   "metadata": {},
   "outputs": [
    {
     "name": "stdout",
     "output_type": "stream",
     "text": [
      "Enter even integer greater than 2\n"
     ]
    }
   ],
   "source": [
    "task1(\"adsd\")"
   ]
  },
  {
   "cell_type": "code",
   "execution_count": 33,
   "id": "e8d07c46-c1ce-4187-b8f0-1f079bd30c28",
   "metadata": {},
   "outputs": [
    {
     "name": "stdout",
     "output_type": "stream",
     "text": [
      "Enter even integer greater than 2\n"
     ]
    }
   ],
   "source": [
    "task1(123.3)"
   ]
  },
  {
   "cell_type": "code",
   "execution_count": 34,
   "id": "92155907-68c1-4b1a-8c2a-b781605325ba",
   "metadata": {},
   "outputs": [
    {
     "name": "stdout",
     "output_type": "stream",
     "text": [
      "Number 128 can be seen as: 19 + 109\n"
     ]
    }
   ],
   "source": [
    "task1(128)\n"
   ]
  }
 ],
 "metadata": {
  "kernelspec": {
   "display_name": "Python 3 (ipykernel)",
   "language": "python",
   "name": "python3"
  },
  "language_info": {
   "codemirror_mode": {
    "name": "ipython",
    "version": 3
   },
   "file_extension": ".py",
   "mimetype": "text/x-python",
   "name": "python",
   "nbconvert_exporter": "python",
   "pygments_lexer": "ipython3",
   "version": "3.12.4"
  }
 },
 "nbformat": 4,
 "nbformat_minor": 5
}
